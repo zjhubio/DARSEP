{
 "cells": [
  {
   "cell_type": "code",
   "execution_count": 2,
   "id": "c9b819bc-a1a3-4142-94cd-67d5c9c1ea18",
   "metadata": {},
   "outputs": [
    {
     "name": "stderr",
     "output_type": "stream",
     "text": [
      "/home/liuzy/miniconda3/lib/python3.10/site-packages/tqdm/auto.py:22: TqdmWarning: IProgress not found. Please update jupyter and ipywidgets. See https://ipywidgets.readthedocs.io/en/stable/user_install.html\n",
      "  from .autonotebook import tqdm as notebook_tqdm\n"
     ]
    }
   ],
   "source": [
    "import evolocity as evo\n",
    "import numpy as np\n",
    "import scanpy as sc\n",
    "import matplotlib.pyplot as plt"
   ]
  },
  {
   "cell_type": "code",
   "execution_count": null,
   "id": "24fe7fde-ce08-4ce9-8d10-b4621e98b8fe",
   "metadata": {},
   "outputs": [],
   "source": [
    "adata = evo.pp.featurize_fasta('./result_data.fasta')"
   ]
  },
  {
   "cell_type": "code",
   "execution_count": null,
   "id": "dd67d889-c1ff-4108-bb8f-f6af2461439d",
   "metadata": {},
   "outputs": [],
   "source": [
    "evo.pp.neighbors(adata)"
   ]
  },
  {
   "cell_type": "code",
   "execution_count": 4,
   "id": "a43dbe9b-46c7-4500-8755-4acf021f220f",
   "metadata": {},
   "outputs": [],
   "source": [
    "sc.tl.umap(adata)"
   ]
  },
  {
   "cell_type": "code",
   "execution_count": null,
   "id": "486cd8a8-e73e-4e65-b638-e2a2040fd61d",
   "metadata": {},
   "outputs": [],
   "source": [
    "evo.tl.velocity_graph(adata,model_name='esm2')"
   ]
  },
  {
   "cell_type": "code",
   "execution_count": null,
   "id": "65a3aa77-338b-428f-9f8c-ef8b31921919",
   "metadata": {},
   "outputs": [],
   "source": [
    "evo.pl.velocity_embedding(adata, basis='umap', scale=0.5)"
   ]
  },
  {
   "cell_type": "code",
   "execution_count": null,
   "id": "53140cff-a71a-4b9e-ad81-fc929a348bbb",
   "metadata": {},
   "outputs": [],
   "source": [
    "ax = evo.pl.velocity_embedding_stream(\n",
    "    adata, basis='umap', min_mass=4, smooth=2, density=1,\n",
    "    color='year', show=False,\n",
    ")\n",
    "sc.pl._utils.plot_edges(ax, adata, 'umap', 0.1, '#aaaaaa')"
   ]
  },
  {
   "cell_type": "code",
   "execution_count": null,
   "id": "d6a06bd9-8d03-462d-8ee9-6e62ce01e8a3",
   "metadata": {},
   "outputs": [],
   "source": [
    "evo.tl.terminal_states(adata)\n",
    "sc.pl.umap(\n",
    "    adata, color=[ 'root_nodes', 'end_points' ],\n",
    "    color_map=plt.cm.get_cmap('magma').reversed(),\n",
    "    edges=True,\n",
    ")"
   ]
  },
  {
   "cell_type": "code",
   "execution_count": null,
   "id": "b788b281-45eb-44d2-80b2-ccc23d6cab6c",
   "metadata": {},
   "outputs": [],
   "source": [
    "evo.set_figure_params(dpi_save=500, figsize=(5, 5))\n",
    "sc.pl.umap(adata, color='year', edges=True,)"
   ]
  },
  {
   "cell_type": "code",
   "execution_count": null,
   "id": "bba879c2-47ee-47f3-9d8c-ae19fb744153",
   "metadata": {},
   "outputs": [],
   "source": [
    "evo.pl.velocity_embedding_grid(\n",
    "    adata, basis='umap', min_mass=4, smooth=2, density=1,\n",
    "    color='year', show=False,\n",
    ")"
   ]
  },
  {
   "cell_type": "code",
   "execution_count": null,
   "id": "7fb0b411-ffac-422a-b171-4fba2297ea43",
   "metadata": {},
   "outputs": [],
   "source": []
  }
 ],
 "metadata": {
  "kernelspec": {
   "display_name": "Python 3 (ipykernel)",
   "language": "python",
   "name": "python3"
  },
  "language_info": {
   "codemirror_mode": {
    "name": "ipython",
    "version": 3
   },
   "file_extension": ".py",
   "mimetype": "text/x-python",
   "name": "python",
   "nbconvert_exporter": "python",
   "pygments_lexer": "ipython3",
   "version": "3.10.9"
  }
 },
 "nbformat": 4,
 "nbformat_minor": 5
}
