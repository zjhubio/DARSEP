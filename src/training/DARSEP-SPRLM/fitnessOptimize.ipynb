{
 "cells": [
  {
   "cell_type": "code",
   "execution_count": 1,
   "id": "cad071c7-29d3-47a8-aa23-44fe306f69a0",
   "metadata": {},
   "outputs": [],
   "source": [
    "from tqdm import tqdm\n",
    "import torch\n",
    "import datetime\n",
    "import numpy as np\n",
    "from torch.utils.data import DataLoader,Dataset,random_split\n",
    "import torch.nn.functional as F\n",
    "import torch.optim as optim\n",
    "from collections import defaultdict, deque\n",
    "from sequence_env_m_p import Seq_env, Mutate\n",
    "from mcts_alphaZero_mutate_expand_m_p_gfp import MCTSMutater\n",
    "from p_v_net_3 import PolicyValueNet\n",
    "\n",
    "sequence_fitness_data_dir = './sequences_fitness.txt'\n",
    "aa_alphabet = \"ILVAGMFYWEDQNHCRKSTPJBZ-\""
   ]
  },
  {
   "cell_type": "code",
   "execution_count": 2,
   "id": "cc893cab-0db4-489d-8480-916af100e5aa",
   "metadata": {},
   "outputs": [],
   "source": [
    "#序列-适应度数据集\n",
    "\n",
    "class sequenceFitnessDataset(Dataset):\n",
    "    def __init__(self, sequences, fitnessess):\n",
    "        self.sequences = sequences\n",
    "        self.fitnessess = fitnessess\n",
    "\n",
    "    def __getitem__(self, index):\n",
    "        seq, target = self.sequences[index], self.fitnessess[index]\n",
    "        return seq, target\n",
    "\n",
    "    def __len__(self):\n",
    "        return len(self.sequences)"
   ]
  },
  {
   "cell_type": "code",
   "execution_count": 3,
   "id": "8dcd4bf1-e178-46c5-9595-a755bdc7ef32",
   "metadata": {},
   "outputs": [],
   "source": [
    "# 将序列转换成onehot编码\n",
    "\n",
    "def seq2onehot(sequence, alphabet):\n",
    "    feat = np.zeros((len(sequence), len(alphabet)))\n",
    "    for i in range(len(sequence)):\n",
    "        feat[i, alphabet.index(sequence[i])] = 1\n",
    "    return feat"
   ]
  },
  {
   "cell_type": "code",
   "execution_count": 4,
   "id": "dacf521e-7ad4-46d0-a465-d28b120e6b1b",
   "metadata": {},
   "outputs": [],
   "source": [
    "# 读取文件并对氨基酸序列编码\n",
    "\n",
    "def amino_acid_encode(sequence_fitness_data_dir):\n",
    "    file = open(sequence_fitness_data_dir, \"r\")\n",
    "    line = file.readlines()\n",
    "    seq_list = []\n",
    "    fitness_list = []\n",
    "    for i in range(1, len(line)):\n",
    "        tmp = line[i].strip().split(\"\\t\")\n",
    "        seq_list.append(tmp[0])\n",
    "        fitness_list.append(float(tmp[1]))\n",
    "    \n",
    "    seq_feat = np.array([seq2onehot(seq, aa_alphabet) for seq in seq_list])\n",
    "    seq_onehots = torch.from_numpy(seq_feat).to(torch.float32)\n",
    "    fitnessess = torch.from_numpy(np.array(fitness_list))\n",
    "    fitnessess = fitnessess.to(torch.float32)\n",
    "    \n",
    "    return seq_onehots, fitnessess"
   ]
  },
  {
   "cell_type": "code",
   "execution_count": 8,
   "id": "e322623e-fa51-45fe-b9d9-066c3593fe51",
   "metadata": {},
   "outputs": [],
   "source": [
    "# 预测序列适应度的模型\n",
    "\n",
    "class FitnessPredictorModel(torch.nn.Module):\n",
    "     def __init__(self):\n",
    "        super(FitnessPredictorModel, self).__init__()    \n",
    "        \n",
    "        self.conv1 = torch.nn.Conv1d(24, 64, kernel_size=3) \n",
    "        self.conv2 = torch.nn.Conv1d(64, 32, kernel_size=3, padding=1)\n",
    "        self.conv3 = torch.nn.Conv1d(32, 32, kernel_size=3, padding=1)\n",
    "    \n",
    "        self.maxpool1 = torch.nn.MaxPool1d(kernel_size=1, stride=1)\n",
    "        self.maxpool2 = torch.nn.MaxPool1d(kernel_size=1, stride=1)\n",
    "        \n",
    "        self.val_fc1 = torch.nn.Linear(21856, 100)# * alphabet_len\n",
    "        self.val_fc2 = torch.nn.Linear(100, 100)  # * alphabet_len\n",
    "        self.dropout = torch.nn.Dropout(p=0.25)\n",
    "        self.val_fc3 = torch.nn.Linear(100, 1)\n",
    "    \n",
    "     def forward(self, input):\n",
    "        x = F.relu(self.conv1(input))\n",
    "        x = F.relu(self.conv2(x))\n",
    "        x = F.relu(self.maxpool1(x))\n",
    "\n",
    "        x = F.relu(self.conv3(x))\n",
    "        x_act = F.relu(self.maxpool2(x))\n",
    "        \n",
    "        \n",
    "        x_score_1 = x_act.view(x_act.shape[0], -1)\n",
    "        \n",
    "        x_score_2 = F.relu(self.val_fc1(x_score_1))\n",
    "        x_score_2 = F.relu(self.val_fc2(x_score_2))\n",
    "        x_score_2 = self.dropout(x_score_2)\n",
    "        x_score_3 = self.val_fc3(x_score_2)\n",
    "\n",
    "        return x_score_3   \n",
    "        "
   ]
  },
  {
   "cell_type": "code",
   "execution_count": 9,
   "id": "87b8d03c-7e86-45e6-8ef7-57f057f23ca1",
   "metadata": {},
   "outputs": [],
   "source": [
    "# 预测序列适应度的方法\n",
    "\n",
    "def fitnessPredict():\n",
    "    \n",
    "    epochs = 50\n",
    "    losses = []\n",
    "    \n",
    "    seq_onehots, fitnessess = amino_acid_encode(sequence_fitness_data_dir)\n",
    "    seqFitnessDataset = sequenceFitnessDataset(seq_onehots, fitnessess)\n",
    "    trainDataloader = DataLoader(seqFitnessDataset,shuffle=True)\n",
    "    \n",
    "    model = FitnessPredictorModel().to('cuda')\n",
    "    optimizer = optim.Adam(model.parameters())\n",
    "    \n",
    "    for epoch in range(epochs):\n",
    "        print(\"Epoch \" + str(epoch))\n",
    "        for i, batch in tqdm(enumerate(trainDataloader), total=len(trainDataloader), desc=\"Training Batches\"):\n",
    "            seq = batch[0]\n",
    "            seq = seq.permute(0,2,1).to('cuda')\n",
    "            fitness = batch[1].to('cuda')\n",
    "            optimizer.zero_grad()\n",
    "\n",
    "            predicts = model(seq).squeeze()\n",
    "            loss = F.mse_loss(predicts, fitness)\n",
    "            loss.backward()\n",
    "            optimizer.step()\n",
    "        print(\"loss:{}\".format(loss))\n",
    "        losses.append(loss.item())\n",
    "    \n",
    "    return losses, model\n",
    "        "
   ]
  },
  {
   "cell_type": "code",
   "execution_count": 10,
   "id": "4e613529-effa-465c-af37-16a862f1b5e5",
   "metadata": {},
   "outputs": [
    {
     "name": "stdout",
     "output_type": "stream",
     "text": [
      "Epoch 0\n"
     ]
    },
    {
     "name": "stderr",
     "output_type": "stream",
     "text": [
      "Training Batches:   0%|          | 0/17315 [00:00<?, ?it/s]/tmp/ipykernel_817/2424398759.py:24: UserWarning: Using a target size (torch.Size([1])) that is different to the input size (torch.Size([])). This will likely lead to incorrect results due to broadcasting. Please ensure they have the same size.\n",
      "  loss = F.mse_loss(predicts, fitness)\n",
      "Training Batches: 100%|██████████| 17315/17315 [01:07<00:00, 258.35it/s]\n"
     ]
    },
    {
     "name": "stdout",
     "output_type": "stream",
     "text": [
      "loss:0.09934747219085693\n",
      "Epoch 1\n"
     ]
    },
    {
     "name": "stderr",
     "output_type": "stream",
     "text": [
      "Training Batches: 100%|██████████| 17315/17315 [01:08<00:00, 252.19it/s]\n"
     ]
    },
    {
     "name": "stdout",
     "output_type": "stream",
     "text": [
      "loss:0.281302273273468\n",
      "Epoch 2\n"
     ]
    },
    {
     "name": "stderr",
     "output_type": "stream",
     "text": [
      "Training Batches: 100%|██████████| 17315/17315 [01:05<00:00, 263.17it/s]\n"
     ]
    },
    {
     "name": "stdout",
     "output_type": "stream",
     "text": [
      "loss:16.97889518737793\n",
      "Epoch 3\n"
     ]
    },
    {
     "name": "stderr",
     "output_type": "stream",
     "text": [
      "Training Batches: 100%|██████████| 17315/17315 [01:06<00:00, 260.11it/s]\n"
     ]
    },
    {
     "name": "stdout",
     "output_type": "stream",
     "text": [
      "loss:0.8161142468452454\n",
      "Epoch 4\n"
     ]
    },
    {
     "name": "stderr",
     "output_type": "stream",
     "text": [
      "Training Batches: 100%|██████████| 17315/17315 [01:09<00:00, 249.70it/s]\n"
     ]
    },
    {
     "name": "stdout",
     "output_type": "stream",
     "text": [
      "loss:43.120182037353516\n",
      "Epoch 5\n"
     ]
    },
    {
     "name": "stderr",
     "output_type": "stream",
     "text": [
      "Training Batches: 100%|██████████| 17315/17315 [01:07<00:00, 258.31it/s]\n"
     ]
    },
    {
     "name": "stdout",
     "output_type": "stream",
     "text": [
      "loss:7.630764961242676\n",
      "Epoch 6\n"
     ]
    },
    {
     "name": "stderr",
     "output_type": "stream",
     "text": [
      "Training Batches: 100%|██████████| 17315/17315 [01:06<00:00, 262.27it/s]\n"
     ]
    },
    {
     "name": "stdout",
     "output_type": "stream",
     "text": [
      "loss:3.7375175952911377\n",
      "Epoch 7\n"
     ]
    },
    {
     "name": "stderr",
     "output_type": "stream",
     "text": [
      "Training Batches: 100%|██████████| 17315/17315 [01:08<00:00, 252.41it/s]\n"
     ]
    },
    {
     "name": "stdout",
     "output_type": "stream",
     "text": [
      "loss:3.911022901535034\n",
      "Epoch 8\n"
     ]
    },
    {
     "name": "stderr",
     "output_type": "stream",
     "text": [
      "Training Batches: 100%|██████████| 17315/17315 [01:06<00:00, 262.31it/s]\n"
     ]
    },
    {
     "name": "stdout",
     "output_type": "stream",
     "text": [
      "loss:0.38844889402389526\n",
      "Epoch 9\n"
     ]
    },
    {
     "name": "stderr",
     "output_type": "stream",
     "text": [
      "Training Batches: 100%|██████████| 17315/17315 [01:06<00:00, 261.37it/s]\n"
     ]
    },
    {
     "name": "stdout",
     "output_type": "stream",
     "text": [
      "loss:3.198694944381714\n",
      "Epoch 10\n"
     ]
    },
    {
     "name": "stderr",
     "output_type": "stream",
     "text": [
      "Training Batches: 100%|██████████| 17315/17315 [01:07<00:00, 255.78it/s]\n"
     ]
    },
    {
     "name": "stdout",
     "output_type": "stream",
     "text": [
      "loss:14.936718940734863\n",
      "Epoch 11\n"
     ]
    },
    {
     "name": "stderr",
     "output_type": "stream",
     "text": [
      "Training Batches: 100%|██████████| 17315/17315 [01:06<00:00, 261.01it/s]\n"
     ]
    },
    {
     "name": "stdout",
     "output_type": "stream",
     "text": [
      "loss:1.6271485090255737\n",
      "Epoch 12\n"
     ]
    },
    {
     "name": "stderr",
     "output_type": "stream",
     "text": [
      "Training Batches: 100%|██████████| 17315/17315 [01:07<00:00, 257.96it/s]\n"
     ]
    },
    {
     "name": "stdout",
     "output_type": "stream",
     "text": [
      "loss:0.16358113288879395\n",
      "Epoch 13\n"
     ]
    },
    {
     "name": "stderr",
     "output_type": "stream",
     "text": [
      "Training Batches: 100%|██████████| 17315/17315 [01:07<00:00, 256.77it/s]\n"
     ]
    },
    {
     "name": "stdout",
     "output_type": "stream",
     "text": [
      "loss:0.26215165853500366\n",
      "Epoch 14\n"
     ]
    },
    {
     "name": "stderr",
     "output_type": "stream",
     "text": [
      "Training Batches: 100%|██████████| 17315/17315 [01:07<00:00, 255.75it/s]\n"
     ]
    },
    {
     "name": "stdout",
     "output_type": "stream",
     "text": [
      "loss:0.023142613470554352\n",
      "Epoch 15\n"
     ]
    },
    {
     "name": "stderr",
     "output_type": "stream",
     "text": [
      "Training Batches: 100%|██████████| 17315/17315 [01:06<00:00, 259.82it/s]\n"
     ]
    },
    {
     "name": "stdout",
     "output_type": "stream",
     "text": [
      "loss:3.1472084522247314\n",
      "Epoch 16\n"
     ]
    },
    {
     "name": "stderr",
     "output_type": "stream",
     "text": [
      "Training Batches: 100%|██████████| 17315/17315 [01:08<00:00, 252.56it/s]\n"
     ]
    },
    {
     "name": "stdout",
     "output_type": "stream",
     "text": [
      "loss:7.757390022277832\n",
      "Epoch 17\n"
     ]
    },
    {
     "name": "stderr",
     "output_type": "stream",
     "text": [
      "Training Batches: 100%|██████████| 17315/17315 [01:06<00:00, 261.60it/s]\n"
     ]
    },
    {
     "name": "stdout",
     "output_type": "stream",
     "text": [
      "loss:0.0012547537917271256\n",
      "Epoch 18\n"
     ]
    },
    {
     "name": "stderr",
     "output_type": "stream",
     "text": [
      "Training Batches:   8%|▊         | 1372/17315 [00:05<01:03, 251.19it/s]\n"
     ]
    },
    {
     "ename": "KeyboardInterrupt",
     "evalue": "",
     "output_type": "error",
     "traceback": [
      "\u001b[0;31m---------------------------------------------------------------------------\u001b[0m",
      "\u001b[0;31mKeyboardInterrupt\u001b[0m                         Traceback (most recent call last)",
      "\u001b[0;32m/tmp/ipykernel_817/4239786464.py\u001b[0m in \u001b[0;36m<module>\u001b[0;34m\u001b[0m\n\u001b[0;32m----> 1\u001b[0;31m \u001b[0mlosses\u001b[0m\u001b[0;34m,\u001b[0m \u001b[0mmodel\u001b[0m \u001b[0;34m=\u001b[0m \u001b[0mfitnessPredict\u001b[0m\u001b[0;34m(\u001b[0m\u001b[0;34m)\u001b[0m\u001b[0;34m\u001b[0m\u001b[0;34m\u001b[0m\u001b[0m\n\u001b[0m",
      "\u001b[0;32m/tmp/ipykernel_817/2424398759.py\u001b[0m in \u001b[0;36mfitnessPredict\u001b[0;34m()\u001b[0m\n\u001b[1;32m     23\u001b[0m             \u001b[0mpredicts\u001b[0m \u001b[0;34m=\u001b[0m \u001b[0mmodel\u001b[0m\u001b[0;34m(\u001b[0m\u001b[0mseq\u001b[0m\u001b[0;34m)\u001b[0m\u001b[0;34m.\u001b[0m\u001b[0msqueeze\u001b[0m\u001b[0;34m(\u001b[0m\u001b[0;34m)\u001b[0m\u001b[0;34m\u001b[0m\u001b[0;34m\u001b[0m\u001b[0m\n\u001b[1;32m     24\u001b[0m             \u001b[0mloss\u001b[0m \u001b[0;34m=\u001b[0m \u001b[0mF\u001b[0m\u001b[0;34m.\u001b[0m\u001b[0mmse_loss\u001b[0m\u001b[0;34m(\u001b[0m\u001b[0mpredicts\u001b[0m\u001b[0;34m,\u001b[0m \u001b[0mfitness\u001b[0m\u001b[0;34m)\u001b[0m\u001b[0;34m\u001b[0m\u001b[0;34m\u001b[0m\u001b[0m\n\u001b[0;32m---> 25\u001b[0;31m             \u001b[0mloss\u001b[0m\u001b[0;34m.\u001b[0m\u001b[0mbackward\u001b[0m\u001b[0;34m(\u001b[0m\u001b[0;34m)\u001b[0m\u001b[0;34m\u001b[0m\u001b[0;34m\u001b[0m\u001b[0m\n\u001b[0m\u001b[1;32m     26\u001b[0m             \u001b[0moptimizer\u001b[0m\u001b[0;34m.\u001b[0m\u001b[0mstep\u001b[0m\u001b[0;34m(\u001b[0m\u001b[0;34m)\u001b[0m\u001b[0;34m\u001b[0m\u001b[0;34m\u001b[0m\u001b[0m\n\u001b[1;32m     27\u001b[0m         \u001b[0mprint\u001b[0m\u001b[0;34m(\u001b[0m\u001b[0;34m\"loss:{}\"\u001b[0m\u001b[0;34m.\u001b[0m\u001b[0mformat\u001b[0m\u001b[0;34m(\u001b[0m\u001b[0mloss\u001b[0m\u001b[0;34m)\u001b[0m\u001b[0;34m)\u001b[0m\u001b[0;34m\u001b[0m\u001b[0;34m\u001b[0m\u001b[0m\n",
      "\u001b[0;32m~/miniconda3/lib/python3.8/site-packages/torch/_tensor.py\u001b[0m in \u001b[0;36mbackward\u001b[0;34m(self, gradient, retain_graph, create_graph, inputs)\u001b[0m\n\u001b[1;32m    305\u001b[0m                 \u001b[0mcreate_graph\u001b[0m\u001b[0;34m=\u001b[0m\u001b[0mcreate_graph\u001b[0m\u001b[0;34m,\u001b[0m\u001b[0;34m\u001b[0m\u001b[0;34m\u001b[0m\u001b[0m\n\u001b[1;32m    306\u001b[0m                 inputs=inputs)\n\u001b[0;32m--> 307\u001b[0;31m         \u001b[0mtorch\u001b[0m\u001b[0;34m.\u001b[0m\u001b[0mautograd\u001b[0m\u001b[0;34m.\u001b[0m\u001b[0mbackward\u001b[0m\u001b[0;34m(\u001b[0m\u001b[0mself\u001b[0m\u001b[0;34m,\u001b[0m \u001b[0mgradient\u001b[0m\u001b[0;34m,\u001b[0m \u001b[0mretain_graph\u001b[0m\u001b[0;34m,\u001b[0m \u001b[0mcreate_graph\u001b[0m\u001b[0;34m,\u001b[0m \u001b[0minputs\u001b[0m\u001b[0;34m=\u001b[0m\u001b[0minputs\u001b[0m\u001b[0;34m)\u001b[0m\u001b[0;34m\u001b[0m\u001b[0;34m\u001b[0m\u001b[0m\n\u001b[0m\u001b[1;32m    308\u001b[0m \u001b[0;34m\u001b[0m\u001b[0m\n\u001b[1;32m    309\u001b[0m     \u001b[0;32mdef\u001b[0m \u001b[0mregister_hook\u001b[0m\u001b[0;34m(\u001b[0m\u001b[0mself\u001b[0m\u001b[0;34m,\u001b[0m \u001b[0mhook\u001b[0m\u001b[0;34m)\u001b[0m\u001b[0;34m:\u001b[0m\u001b[0;34m\u001b[0m\u001b[0;34m\u001b[0m\u001b[0m\n",
      "\u001b[0;32m~/miniconda3/lib/python3.8/site-packages/torch/autograd/__init__.py\u001b[0m in \u001b[0;36mbackward\u001b[0;34m(tensors, grad_tensors, retain_graph, create_graph, grad_variables, inputs)\u001b[0m\n\u001b[1;32m    152\u001b[0m         \u001b[0mretain_graph\u001b[0m \u001b[0;34m=\u001b[0m \u001b[0mcreate_graph\u001b[0m\u001b[0;34m\u001b[0m\u001b[0;34m\u001b[0m\u001b[0m\n\u001b[1;32m    153\u001b[0m \u001b[0;34m\u001b[0m\u001b[0m\n\u001b[0;32m--> 154\u001b[0;31m     Variable._execution_engine.run_backward(\n\u001b[0m\u001b[1;32m    155\u001b[0m         \u001b[0mtensors\u001b[0m\u001b[0;34m,\u001b[0m \u001b[0mgrad_tensors_\u001b[0m\u001b[0;34m,\u001b[0m \u001b[0mretain_graph\u001b[0m\u001b[0;34m,\u001b[0m \u001b[0mcreate_graph\u001b[0m\u001b[0;34m,\u001b[0m \u001b[0minputs\u001b[0m\u001b[0;34m,\u001b[0m\u001b[0;34m\u001b[0m\u001b[0;34m\u001b[0m\u001b[0m\n\u001b[1;32m    156\u001b[0m         allow_unreachable=True, accumulate_grad=True)  # allow_unreachable flag\n",
      "\u001b[0;31mKeyboardInterrupt\u001b[0m: "
     ]
    }
   ],
   "source": [
    "losses, model = fitnessPredict()"
   ]
  },
  {
   "cell_type": "code",
   "execution_count": 8,
   "id": "7270f358-104a-4e7c-98d6-0324bb71990f",
   "metadata": {},
   "outputs": [
    {
     "data": {
      "text/plain": [
       "[26.61771583557129,\n",
       " 1.4807484149932861,\n",
       " 1.3677831888198853,\n",
       " 0.01634310744702816,\n",
       " 0.5314550399780273,\n",
       " 2.503415822982788,\n",
       " 0.008281665854156017,\n",
       " 12.673104286193848,\n",
       " 0.03654003515839577,\n",
       " 3.715630292892456,\n",
       " 10.184014320373535,\n",
       " 0.05682102590799332,\n",
       " 0.03173124045133591,\n",
       " 6.145025253295898,\n",
       " 0.9123644828796387,\n",
       " 0.06955353915691376,\n",
       " 3.613138437271118,\n",
       " 0.012017414905130863,\n",
       " 1.0418157577514648,\n",
       " 1.8603440523147583,\n",
       " 0.9181684255599976,\n",
       " 3.6430718898773193,\n",
       " 0.9326573610305786,\n",
       " 0.05963084101676941,\n",
       " 5.539087295532227,\n",
       " 0.01431484054774046,\n",
       " 0.022356420755386353,\n",
       " 0.00999168585985899,\n",
       " 0.0030452613718807697,\n",
       " 0.009264234453439713,\n",
       " 0.0687922015786171,\n",
       " 0.010622077621519566,\n",
       " 0.7758200168609619,\n",
       " 0.6788956522941589,\n",
       " 0.16565079987049103,\n",
       " 0.3197312355041504,\n",
       " 0.2264825701713562,\n",
       " 0.19068209826946259,\n",
       " 1.6983215808868408,\n",
       " 0.07960017770528793,\n",
       " 0.6906741857528687,\n",
       " 0.14017154276371002,\n",
       " 0.13870523869991302,\n",
       " 0.16665247082710266,\n",
       " 0.014743662439286709,\n",
       " 0.824032723903656,\n",
       " 0.8207278251647949,\n",
       " 0.39522698521614075,\n",
       " 0.03866870328783989,\n",
       " 0.8245400786399841,\n",
       " 0.25918447971343994,\n",
       " 0.22398579120635986,\n",
       " 0.0701460987329483,\n",
       " 0.27840834856033325,\n",
       " 0.2019442468881607,\n",
       " 1.3677282333374023,\n",
       " 0.04846202954649925,\n",
       " 0.045203063637018204,\n",
       " 0.17748168110847473,\n",
       " 0.13738742470741272,\n",
       " 0.32024452090263367,\n",
       " 0.40668511390686035,\n",
       " 0.7624906301498413,\n",
       " 0.36051955819129944,\n",
       " 0.24677951633930206,\n",
       " 0.3855540156364441,\n",
       " 0.16434107720851898,\n",
       " 7.175477027893066,\n",
       " 0.004017901141196489,\n",
       " 0.011464322917163372,\n",
       " 0.3734908699989319,\n",
       " 0.33916598558425903,\n",
       " 1.7051169872283936,\n",
       " 0.5649280548095703,\n",
       " 0.05109443515539169,\n",
       " 0.10976752638816833,\n",
       " 0.1112191304564476,\n",
       " 0.042187146842479706,\n",
       " 0.04354815185070038,\n",
       " 0.017014482989907265,\n",
       " 5.104318141937256,\n",
       " 0.013447136618196964,\n",
       " 0.0005689003737643361,\n",
       " 0.052401356399059296,\n",
       " 0.08047892153263092,\n",
       " 0.0004136172356083989,\n",
       " 0.7643654942512512,\n",
       " 1.7296565771102905,\n",
       " 0.09761840105056763,\n",
       " 0.21603360772132874,\n",
       " 1.1450141668319702,\n",
       " 0.005573973525315523,\n",
       " 1.0649138689041138,\n",
       " 0.0082187345251441,\n",
       " 0.3092197775840759,\n",
       " 0.7914234399795532,\n",
       " 0.11350755393505096,\n",
       " 0.10916397720575333,\n",
       " 0.29321497678756714,\n",
       " 0.013199940323829651]"
      ]
     },
     "execution_count": 8,
     "metadata": {},
     "output_type": "execute_result"
    }
   ],
   "source": [
    "losses"
   ]
  },
  {
   "cell_type": "code",
   "execution_count": 12,
   "id": "555dfd59-cec7-402f-986b-40bafa6c083c",
   "metadata": {},
   "outputs": [],
   "source": [
    "torch.save(model,\"./fitnessPredict.pth\")"
   ]
  },
  {
   "cell_type": "code",
   "execution_count": 6,
   "id": "31fabed9-c787-4cc0-8dec-f7d658e67234",
   "metadata": {},
   "outputs": [],
   "source": [
    "class seqOptimizeGame():\n",
    "    def __init__(self, init_seq, alphabet, model, trust_radius, init_model=None): #init_model=None\n",
    "        self.seq_len = len(init_seq)\n",
    "        self.vocab_size = len(alphabet)\n",
    "        self.n_in_row = 4\n",
    "        self.learn_rate = 2e-3\n",
    "        self.lr_multiplier = 1.0 \n",
    "        self.temp = 1.0\n",
    "        self.n_playout = 200\n",
    "        self.c_puct = 10\n",
    "        self.buffer_size = 10000\n",
    "        self.batch_size = 32 \n",
    "        self.data_buffer = deque(maxlen=self.buffer_size)\n",
    "        self.play_batch_size = 1\n",
    "        self.epochs = 5 \n",
    "        self.kl_targ = 0.02\n",
    "        self.check_freq = 50\n",
    "        self.game_batch_num = 1500\n",
    "        self.best_win_ratio = 0.0\n",
    "        self.pure_mcts_playout_num = 1000\n",
    "        self.buffer_no_extend = False\n",
    "        self.generated_seqs = []\n",
    "        self.fit_list = []\n",
    "        self.p_dict = {}\n",
    "        self.m_p_dict = {}\n",
    "        self.retrain_flag = False\n",
    "        self.part = 2\n",
    "        \n",
    "        self.seq_env = Seq_env(self.seq_len,alphabet,model,init_seq,trust_radius)\n",
    "        self.mutate = Mutate(self.seq_env)\n",
    "        self.policy_value_net = PolicyValueNet(self.seq_len,self.vocab_size,use_gpu=True)\n",
    "        self.mcts_player = MCTSMutater(self.policy_value_net.policy_value_fn,c_puct=self.c_puct,n_playout=self.n_playout,is_selfplay=1)\n",
    "\n",
    "    def collect_selfplay_data(self, n_games=1):\n",
    "        counts = len(self.generated_seqs)\n",
    "        self.buffer_no_extend = False\n",
    "        for i in range(n_games):\n",
    "            play_data, seq_and_fit, p_dict = self.mutate.start_mutating(self.mcts_player,temp=self.temp)    #winner,\n",
    "            play_data = list(play_data)[:]\n",
    "            self.episode_len = len(play_data)\n",
    "            self.p_dict = p_dict\n",
    "            self.m_p_dict.update(self.p_dict)\n",
    "            if self.episode_len == 0:\n",
    "                self.buffer_no_extend = True\n",
    "            else:\n",
    "                self.data_buffer.extend(play_data)\n",
    "                for seq, fit in seq_and_fit:  #alphafold_d\n",
    "                    if seq not in self.generated_seqs:\n",
    "                        self.generated_seqs.append(seq)\n",
    "                        self.fit_list.append(fit)\n",
    "                        if seq not in self.m_p_dict.keys():\n",
    "                            self.m_p_dict[seq] = fit\n",
    "                    \n",
    "                        if len(self.generated_seqs)%10==0 and len(self.generated_seqs)>counts and self.part<=10:\n",
    "                            self.retrain_flag=True\n",
    "                       \n",
    "\n",
    "    def policy_update(self):\n",
    "        mini_batch = random.sample(self.data_buffer, self.batch_size)\n",
    "        state_batch = [data[0] for data in mini_batch]\n",
    "        mcts_probs_batch = [data[1] for data in mini_batch]\n",
    "        winner_batch = [data[2].cpu() for data in mini_batch]\n",
    "        old_probs, old_v = self.policy_value_net.policy_value(state_batch)\n",
    "        for i in range(self.epochs):\n",
    "            loss, entropy = self.policy_value_net.train_step(state_batch,mcts_probs_batch,winner_batch,self.learn_rate*self.lr_multiplier)\n",
    "            new_probs, new_v = self.policy_value_net.policy_value(state_batch)\n",
    "            kl = np.mean(np.sum(old_probs * (np.log(old_probs + 1e-10) - np.log(new_probs + 1e-10)),axis=1))\n",
    "            if kl > self.kl_targ * 4: \n",
    "                break\n",
    "        \n",
    "        if kl > self.kl_targ * 2 and self.lr_multiplier > 0.1:\n",
    "            self.lr_multiplier /= 1.5\n",
    "        elif kl < self.kl_targ / 2 and self.lr_multiplier < 10:\n",
    "            self.lr_multiplier *= 1.5\n",
    "        \n",
    "\n",
    "        explained_var_old = (1 - np.var(np.array(winner_batch) - old_v.cpu().flatten()) / np.var(np.array(winner_batch)))\n",
    "        explained_var_new = (1 - np.var(np.array(winner_batch) - new_v.cpu().flatten()) / np.var(np.array(winner_batch)))\n",
    "        print((\"kl:{:.5f},\" \n",
    "               \"lr_multiplier:{:.3f},\"\n",
    "               \"loss:{},\"\n",
    "               \"entropy:{},\"\n",
    "               \"explained_var_old:{:.3f},\"\n",
    "               \"explained_var_new:{:.3f}\"\n",
    "               ).format(kl,self.lr_multiplier,loss,entropy,explained_var_old,explained_var_new))\n",
    "        return loss, entropy\n",
    "\n",
    "\n",
    "    def playGame(self):\n",
    "        starttime = datetime.datetime.now() \n",
    "\n",
    "        try:\n",
    "            for i in range(self.game_batch_num):\n",
    "                self.collect_selfplay_data(self.play_batch_size)\n",
    "                print(\"batch i:{}, episode_len:{}\".format(i+1, self.episode_len))\n",
    "                \n",
    "                if self.retrain_flag and self.part<=10:\n",
    "                    print('train predictor again')\n",
    "                    update_model = train_cnn_predictor(data_dir,self.part)            \n",
    "                    self.seq_env.model = update_model\n",
    "                    self.seq_env.model.eval()\n",
    "                    self.part = self.part+1\n",
    "                    self.retrain_flag = False\n",
    "                    \n",
    "                if len(self.m_p_dict.keys()) >= 4000:\n",
    "                    for key, value in self.m_p_dict.items():\n",
    "                        self.m_p_dict[key] = value.cpu()\n",
    "                    m_p_fitness = np.array(list(self.m_p_dict.values()))\n",
    "                    m_p_seqs = np.array(list(self.m_p_dict.keys()))\n",
    "                    df_m_p = pd.DataFrame({\"sequence\": m_p_seqs, \"pred_fit\": m_p_fitness})\n",
    "                    df_m_p.to_csv(\"./generated_sequence.csv\",index=False)\n",
    "                    endtime = datetime.datetime.now() \n",
    "                    print('time cost：',(endtime-starttime).seconds)\n",
    "                    sys.exit(0)\n",
    "                    \n",
    "                if len(self.data_buffer) > self.batch_size and self.buffer_no_extend == False:\n",
    "                    loss, entropy = self.policy_update()\n",
    "                    \n",
    "        except KeyboardInterrupt:\n",
    "            print('\\n\\rquit')\n"
   ]
  },
  {
   "cell_type": "code",
   "execution_count": 7,
   "id": "639aa547-0d59-49c7-9a84-d82124483f5d",
   "metadata": {},
   "outputs": [],
   "source": [
    "init_seq = \"MFVFLVLLPLVSSQCVNLTTRTQLPPAYTNSFTRGVYYPDKVFRSSVLHSTQDLFLPFFSNVTWFHAIHVSGTNGTKRFDNPVLPFNDGVYFASTEKSNIIRGWIFGTTLDSKTQSLLIVNNATNVVIKVCEFQFCNDPFLGVYYHKNNKSWMESEFRVYSSANNCTFEYVSQPFLMDLEGKQGNFKNLREFVFKNIDGYFKIYSKHTPINLVRDLPQGFSALEPLVDLPIGINITRFQTLLALHRSYLTPGDSSSGWTAGAAAYYVGYLQPRTFLLKYNENGTITDAVDCALDPLSETKCTLKSFTVEKGIYQTSNFRVQPTESIVRFPNITNLCPFGEVFNATRFASVYAWNRKRISNCVADYSVLYNSASFSTFKCYGVSPTKLNDLCFTNVYADSFVIRGDEVRQIAPGQTGKIADYNYKLPDDFTGCVIAWNSNNLDSKVGGNYNYLYRLFRKSNLKPFERDISTEIYQAGSTPCNGVEGFNCYFPLQSYGFQPTNGVGYQPYRVVVLSFELLHAPATVCGPKKSTNLVKNKCVNFNFNGLTGTGVLTESNKKFLPFQQFGRDIADTTDAVRDPQTLEILDITPCSFGGVSVITPGTNTSNQVAVLYQDVNCTEVPVAIHADQLTPTWRVYSTGSNVFQTRAGCLIGAEHVNNSYECDIPIGAGICASYQTQTNSPRRARSVASQSIIAYTMSLGAENSVAYSNNSIAIPTNFTISVTTEILPVSMTKTSVDCTMYICGDSTECSNLLLQYGSFCTQLNRALTGIAVEQDKNTQEVFAQVKQIYKTPPIKDFGGFNFSQILPDPSKPSKRSFIEDLLFNKVTLADAGFIKQYGDCLGDIAARDLICAQKFNGLTVLPPLLTDEMIAQYTSALLAGTITSGWTFGAGAALQIPFAMQMAYRFNGIGVTQNVLYENQKLIANQFNSAIGKIQDSLSSTASALGKLQDVVNQNAQALNTLVKQLSSNFGAISSVLNDILSRLDKVEAEVQIDRLITGRLQSLQTYVTQQLIRAAEIRASA\"\n",
    "model = FitnessPredictorModel()\n",
    "model = torch.load(\"./fitnessPredict.pth\")\n",
    "game = seqOptimizeGame(init_seq, aa_alphabet, model, trust_radius=100,)"
   ]
  },
  {
   "cell_type": "code",
   "execution_count": 8,
   "id": "920b0de0-4452-4b2b-aaa5-8526be8d4f43",
   "metadata": {},
   "outputs": [
    {
     "name": "stdout",
     "output_type": "stream",
     "text": [
      "starting sequence：MFVFLVLLPLVSSQCVNLTTRTQLPPAYTNSFTRGVYYPDKVFRSSVLHSTQDLFLPFFSNVTWFHAIHVSGTNGTKRFDNPVLPFNDGVYFASTEKSNIIRGWIFGTTLDSKTQSLLIVNNATNVVIKVCEFQFCNDPFLGVYYHKNNKSWMESEFRVYSSANNCTFEYVSQPFLMDLEGKQGNFKNLREFVFKNIDGYFKIYSKHTPINLVRDLPQGFSALEPLVDLPIGINITRFQTLLALHRSYLTPGDSSSGWTAGAAAYYVGYLQPRTFLLKYNENGTITDAVDCALDPLSETKCTLKSFTVEKGIYQTSNFRVQPTESIVRFPNITNLCPFGEVFNATRFASVYAWNRKRISNCVADYSVLYNSASFSTFKCYGVSPTKLNDLCFTNVYADSFVIRGDEVRQIAPGQTGKIADYNYKLPDDFTGCVIAWNSNNLDSKVGGNYNYLYRLFRKSNLKPFERDISTEIYQAGSTPCNGVEGFNCYFPLQSYGFQPTNGVGYQPYRVVVLSFELLHAPATVCGPKKSTNLVKNKCVNFNFNGLTGTGVLTESNKKFLPFQQFGRDIADTTDAVRDPQTLEILDITPCSFGGVSVITPGTNTSNQVAVLYQDVNCTEVPVAIHADQLTPTWRVYSTGSNVFQTRAGCLIGAEHVNNSYECDIPIGAGICASYQTQTNSPRRARSVASQSIIAYTMSLGAENSVAYSNNSIAIPTNFTISVTTEILPVSMTKTSVDCTMYICGDSTECSNLLLQYGSFCTQLNRALTGIAVEQDKNTQEVFAQVKQIYKTPPIKDFGGFNFSQILPDPSKPSKRSFIEDLLFNKVTLADAGFIKQYGDCLGDIAARDLICAQKFNGLTVLPPLLTDEMIAQYTSALLAGTITSGWTFGAGAALQIPFAMQMAYRFNGIGVTQNVLYENQKLIANQFNSAIGKIQDSLSSTASALGKLQDVVNQNAQALNTLVKQLSSNFGAISSVLNDILSRLDKVEAEVQIDRLITGRLQSLQTYVTQQLIRAAEIRASA\n"
     ]
    },
    {
     "name": "stderr",
     "output_type": "stream",
     "text": [
      "/root/p_v_net_3.py:46: UserWarning: Implicit dimension choice for log_softmax has been deprecated. Change the call to include dim=X as an argument.\n",
      "  x_act = F.log_softmax(self.act_fc1(x_act))\n",
      "/root/miniconda3/lib/python3.8/site-packages/torch/nn/functional.py:1795: UserWarning: nn.functional.tanh is deprecated. Use torch.tanh instead.\n",
      "  warnings.warn(\"nn.functional.tanh is deprecated. Use torch.tanh instead.\")\n"
     ]
    },
    {
     "name": "stdout",
     "output_type": "stream",
     "text": [
      "AI move: 12665\n",
      "\n",
      "move_fitness: -4.149772\n",
      "\n",
      "episode_seq len: 2\n",
      "\n",
      "Mmove & playout dict len: 198\n",
      "\n",
      "MFVFLVLLPLVSSQCVNLTTRTQLPPAYTNSFTRGVYYPDKVFRSSVLHSTQDLFLPFFSNVTWFHAIHVSGTNGTKRFDNPVLPFNDGVYFASTEKSNIIRGWIFGTTLDSKTQSLLIVNNATNVVIKVCEFQFCNDPFLGVYYHKNNKSWMESEFRVYSSANNCTFEYVSQPFLMDLEGKQGNFKNLREFVFKNIDGYFKIYSKHTPINLVRDLPQGFSALEPLVDLPIGINITRFQTLLALHRSYLTPGDSSSGWTAGAAAYYVGYLQPRTFLLKYNENGTITDAVDCALDPLSETKCTLKSFTVEKGIYQTSNFRVQPTESIVRFPNITNLCPFGEVFNATRFASVYAWNRKRISNCVADYSVLYNSASFSTFKCYGVSPTKLNDLCFTNVYADSFVIRGDEVRQIAPGQTGKIADYNYKLPDDFTGCVIAWNSNNLDSKVGGNYNYLYRLFRKSNLKPFERDISTEIYQAGSTPCNGVEGFNCYFPLQSYGFQPTNGVGYQPYRVVVLSFELLHAPATVCGPSKSTNLVKNKCVNFNFNGLTGTGVLTESNKKFLPFQQFGRDIADTTDAVRDPQTLEILDITPCSFGGVSVITPGTNTSNQVAVLYQDVNCTEVPVAIHADQLTPTWRVYSTGSNVFQTRAGCLIGAEHVNNSYECDIPIGAGICASYQTQTNSPRRARSVASQSIIAYTMSLGAENSVAYSNNSIAIPTNFTISVTTEILPVSMTKTSVDCTMYICGDSTECSNLLLQYGSFCTQLNRALTGIAVEQDKNTQEVFAQVKQIYKTPPIKDFGGFNFSQILPDPSKPSKRSFIEDLLFNKVTLADAGFIKQYGDCLGDIAARDLICAQKFNGLTVLPPLLTDEMIAQYTSALLAGTITSGWTFGAGAALQIPFAMQMAYRFNGIGVTQNVLYENQKLIANQFNSAIGKIQDSLSSTASALGKLQDVVNQNAQALNTLVKQLSSNFGAISSVLNDILSRLDKVEAEVQIDRLITGRLQSLQTYVTQQLIRAAEIRASA\n",
      "AI move: 21949\n",
      "\n",
      "move_fitness: -4.149772\n",
      "\n",
      "episode_seq len: 3\n",
      "\n",
      "Mmove & playout dict len: 397\n",
      "\n",
      "MFVFLVLLPLVSSQCVNLTTRTQLPPAYTNSFTRGVYYPDKVFRSSVLHSTQDLFLPFFSNVTWFHAIHVSGTNGTKRFDNPVLPFNDGVYFASTEKSNIIRGWIFGTTLDSKTQSLLIVNNATNVVIKVCEFQFCNDPFLGVYYHKNNKSWMESEFRVYSSANNCTFEYVSQPFLMDLEGKQGNFKNLREFVFKNIDGYFKIYSKHTPINLVRDLPQGFSALEPLVDLPIGINITRFQTLLALHRSYLTPGDSSSGWTAGAAAYYVGYLQPRTFLLKYNENGTITDAVDCALDPLSETKCTLKSFTVEKGIYQTSNFRVQPTESIVRFPNITNLCPFGEVFNATRFASVYAWNRKRISNCVADYSVLYNSASFSTFKCYGVSPTKLNDLCFTNVYADSFVIRGDEVRQIAPGQTGKIADYNYKLPDDFTGCVIAWNSNNLDSKVGGNYNYLYRLFRKSNLKPFERDISTEIYQAGSTPCNGVEGFNCYFPLQSYGFQPTNGVGYQPYRVVVLSFELLHAPATVCGPSKSTNLVKNKCVNFNFNGLTGTGVLTESNKKFLPFQQFGRDIADTTDAVRDPQTLEILDITPCSFGGVSVITPGTNTSNQVAVLYQDVNCTEVPVAIHADQLTPTWRVYSTGSNVFQTRAGCLIGAEHVNNSYECDIPIGAGICASYQTQTNSPRRARSVASQSIIAYTMSLGAENSVAYSNNSIAIPTNFTISVTTEILPVSMTKTSVDCTMYICGDSTECSNLLLQYGSFCTQLNRALTGIAVEQDKNTQEVFAQVKQIYKTPPIKDFGGFNFSQILPDPSKPSKRSFIEDLLFNKVTLADAGFIKQYGDCLGDIAARDLICAQKFNGLTVLPPLLTDEMIAQYTSALLAGTITSGWTFGAGAALQIPFAMQMAYRFNGIGVTQNHLYENQKLIANQFNSAIGKIQDSLSSTASALGKLQDVVNQNAQALNTLVKQLSSNFGAISSVLNDILSRLDKVEAEVQIDRLITGRLQSLQTYVTQQLIRAAEIRASA\n",
      "AI move: 3698\n",
      "\n",
      "move_fitness: -4.149772\n",
      "\n",
      "episode_seq len: 4\n",
      "\n",
      "Mmove & playout dict len: 596\n",
      "\n",
      "MFVFLVLLPLVSSQCVNLTTRTQLPPAYTNSFTRGVYYPDKVFRSSVLHSTQDLFLPFFSNVTWFHAIHVSGTNGTKRFDNPVLPFNDGVYFASTEKSNIIRGWIFGTTLDSKTQSLLIVNNATNVVIKVCEFQFCNDPFLGVYYHKNNKSWMEVEFRVYSSANNCTFEYVSQPFLMDLEGKQGNFKNLREFVFKNIDGYFKIYSKHTPINLVRDLPQGFSALEPLVDLPIGINITRFQTLLALHRSYLTPGDSSSGWTAGAAAYYVGYLQPRTFLLKYNENGTITDAVDCALDPLSETKCTLKSFTVEKGIYQTSNFRVQPTESIVRFPNITNLCPFGEVFNATRFASVYAWNRKRISNCVADYSVLYNSASFSTFKCYGVSPTKLNDLCFTNVYADSFVIRGDEVRQIAPGQTGKIADYNYKLPDDFTGCVIAWNSNNLDSKVGGNYNYLYRLFRKSNLKPFERDISTEIYQAGSTPCNGVEGFNCYFPLQSYGFQPTNGVGYQPYRVVVLSFELLHAPATVCGPSKSTNLVKNKCVNFNFNGLTGTGVLTESNKKFLPFQQFGRDIADTTDAVRDPQTLEILDITPCSFGGVSVITPGTNTSNQVAVLYQDVNCTEVPVAIHADQLTPTWRVYSTGSNVFQTRAGCLIGAEHVNNSYECDIPIGAGICASYQTQTNSPRRARSVASQSIIAYTMSLGAENSVAYSNNSIAIPTNFTISVTTEILPVSMTKTSVDCTMYICGDSTECSNLLLQYGSFCTQLNRALTGIAVEQDKNTQEVFAQVKQIYKTPPIKDFGGFNFSQILPDPSKPSKRSFIEDLLFNKVTLADAGFIKQYGDCLGDIAARDLICAQKFNGLTVLPPLLTDEMIAQYTSALLAGTITSGWTFGAGAALQIPFAMQMAYRFNGIGVTQNHLYENQKLIANQFNSAIGKIQDSLSSTASALGKLQDVVNQNAQALNTLVKQLSSNFGAISSVLNDILSRLDKVEAEVQIDRLITGRLQSLQTYVTQQLIRAAEIRASA\n",
      "AI move: 15486\n",
      "\n",
      "move_fitness: -4.149772\n",
      "\n",
      "episode_seq len: 5\n",
      "\n",
      "Mmove & playout dict len: 794\n",
      "\n",
      "MFVFLVLLPLVSSQCVNLTTRTQLPPAYTNSFTRGVYYPDKVFRSSVLHSTQDLFLPFFSNVTWFHAIHVSGTNGTKRFDNPVLPFNDGVYFASTEKSNIIRGWIFGTTLDSKTQSLLIVNNATNVVIKVCEFQFCNDPFLGVYYHKNNKSWMEVEFRVYSSANNCTFEYVSQPFLMDLEGKQGNFKNLREFVFKNIDGYFKIYSKHTPINLVRDLPQGFSALEPLVDLPIGINITRFQTLLALHRSYLTPGDSSSGWTAGAAAYYVGYLQPRTFLLKYNENGTITDAVDCALDPLSETKCTLKSFTVEKGIYQTSNFRVQPTESIVRFPNITNLCPFGEVFNATRFASVYAWNRKRISNCVADYSVLYNSASFSTFKCYGVSPTKLNDLCFTNVYADSFVIRGDEVRQIAPGQTGKIADYNYKLPDDFTGCVIAWNSNNLDSKVGGNYNYLYRLFRKSNLKPFERDISTEIYQAGSTPCNGVEGFNCYFPLQSYGFQPTNGVGYQPYRVVVLSFELLHAPATVCGPSKSTNLVKNKCVNFNFNGLTGTGVLTESNKKFLPFQQFGRDIADTTDAVRDPQTLEILDITPCSFGGVSVITPGTNTSNQVAVLYQDVNCTEVPVAIHADQLTPTWRVYSTGSNVFQTFAGCLIGAEHVNNSYECDIPIGAGICASYQTQTNSPRRARSVASQSIIAYTMSLGAENSVAYSNNSIAIPTNFTISVTTEILPVSMTKTSVDCTMYICGDSTECSNLLLQYGSFCTQLNRALTGIAVEQDKNTQEVFAQVKQIYKTPPIKDFGGFNFSQILPDPSKPSKRSFIEDLLFNKVTLADAGFIKQYGDCLGDIAARDLICAQKFNGLTVLPPLLTDEMIAQYTSALLAGTITSGWTFGAGAALQIPFAMQMAYRFNGIGVTQNHLYENQKLIANQFNSAIGKIQDSLSSTASALGKLQDVVNQNAQALNTLVKQLSSNFGAISSVLNDILSRLDKVEAEVQIDRLITGRLQSLQTYVTQQLIRAAEIRASA\n",
      "AI move: 7549\n",
      "\n",
      "move_fitness: -4.149772\n",
      "\n",
      "episode_seq len: 6\n",
      "\n",
      "Mmove & playout dict len: 993\n",
      "\n",
      "MFVFLVLLPLVSSQCVNLTTRTQLPPAYTNSFTRGVYYPDKVFRSSVLHSTQDLFLPFFSNVTWFHAIHVSGTNGTKRFDNPVLPFNDGVYFASTEKSNIIRGWIFGTTLDSKTQSLLIVNNATNVVIKVCEFQFCNDPFLGVYYHKNNKSWMEVEFRVYSSANNCTFEYVSQPFLMDLEGKQGNFKNLREFVFKNIDGYFKIYSKHTPINLVRDLPQGFSALEPLVDLPIGINITRFQTLLALHRSYLTPGDSSSGWTAGAAAYYVGYLQPRTFLLKYNENGTITDAVDCALDPLSETKCTLKSFTVEKGIYQHSNFRVQPTESIVRFPNITNLCPFGEVFNATRFASVYAWNRKRISNCVADYSVLYNSASFSTFKCYGVSPTKLNDLCFTNVYADSFVIRGDEVRQIAPGQTGKIADYNYKLPDDFTGCVIAWNSNNLDSKVGGNYNYLYRLFRKSNLKPFERDISTEIYQAGSTPCNGVEGFNCYFPLQSYGFQPTNGVGYQPYRVVVLSFELLHAPATVCGPSKSTNLVKNKCVNFNFNGLTGTGVLTESNKKFLPFQQFGRDIADTTDAVRDPQTLEILDITPCSFGGVSVITPGTNTSNQVAVLYQDVNCTEVPVAIHADQLTPTWRVYSTGSNVFQTFAGCLIGAEHVNNSYECDIPIGAGICASYQTQTNSPRRARSVASQSIIAYTMSLGAENSVAYSNNSIAIPTNFTISVTTEILPVSMTKTSVDCTMYICGDSTECSNLLLQYGSFCTQLNRALTGIAVEQDKNTQEVFAQVKQIYKTPPIKDFGGFNFSQILPDPSKPSKRSFIEDLLFNKVTLADAGFIKQYGDCLGDIAARDLICAQKFNGLTVLPPLLTDEMIAQYTSALLAGTITSGWTFGAGAALQIPFAMQMAYRFNGIGVTQNHLYENQKLIANQFNSAIGKIQDSLSSTASALGKLQDVVNQNAQALNTLVKQLSSNFGAISSVLNDILSRLDKVEAEVQIDRLITGRLQSLQTYVTQQLIRAAEIRASA\n",
      "AI move: 3233\n",
      "\n",
      "move_fitness: -4.149772\n",
      "\n",
      "episode_seq len: 7\n",
      "\n",
      "Mmove & playout dict len: 1192\n",
      "\n",
      "MFVFLVLLPLVSSQCVNLTTRTQLPPAYTNSFTRGVYYPDKVFRSSVLHSTQDLFLPFFSNVTWFHAIHVSGTNGTKRFDNPVLPFNDGVYFASTEKSNIIRGWIFGTTLDSKTQSLLIVNNATNVVIKVCEFQSCNDPFLGVYYHKNNKSWMEVEFRVYSSANNCTFEYVSQPFLMDLEGKQGNFKNLREFVFKNIDGYFKIYSKHTPINLVRDLPQGFSALEPLVDLPIGINITRFQTLLALHRSYLTPGDSSSGWTAGAAAYYVGYLQPRTFLLKYNENGTITDAVDCALDPLSETKCTLKSFTVEKGIYQHSNFRVQPTESIVRFPNITNLCPFGEVFNATRFASVYAWNRKRISNCVADYSVLYNSASFSTFKCYGVSPTKLNDLCFTNVYADSFVIRGDEVRQIAPGQTGKIADYNYKLPDDFTGCVIAWNSNNLDSKVGGNYNYLYRLFRKSNLKPFERDISTEIYQAGSTPCNGVEGFNCYFPLQSYGFQPTNGVGYQPYRVVVLSFELLHAPATVCGPSKSTNLVKNKCVNFNFNGLTGTGVLTESNKKFLPFQQFGRDIADTTDAVRDPQTLEILDITPCSFGGVSVITPGTNTSNQVAVLYQDVNCTEVPVAIHADQLTPTWRVYSTGSNVFQTFAGCLIGAEHVNNSYECDIPIGAGICASYQTQTNSPRRARSVASQSIIAYTMSLGAENSVAYSNNSIAIPTNFTISVTTEILPVSMTKTSVDCTMYICGDSTECSNLLLQYGSFCTQLNRALTGIAVEQDKNTQEVFAQVKQIYKTPPIKDFGGFNFSQILPDPSKPSKRSFIEDLLFNKVTLADAGFIKQYGDCLGDIAARDLICAQKFNGLTVLPPLLTDEMIAQYTSALLAGTITSGWTFGAGAALQIPFAMQMAYRFNGIGVTQNHLYENQKLIANQFNSAIGKIQDSLSSTASALGKLQDVVNQNAQALNTLVKQLSSNFGAISSVLNDILSRLDKVEAEVQIDRLITGRLQSLQTYVTQQLIRAAEIRASA\n",
      "AI move: 18979\n",
      "\n",
      "move_fitness: -4.149772\n",
      "\n",
      "episode_seq len: 8\n",
      "\n",
      "Mmove & playout dict len: 1391\n",
      "\n",
      "MFVFLVLLPLVSSQCVNLTTRTQLPPAYTNSFTRGVYYPDKVFRSSVLHSTQDLFLPFFSNVTWFHAIHVSGTNGTKRFDNPVLPFNDGVYFASTEKSNIIRGWIFGTTLDSKTQSLLIVNNATNVVIKVCEFQSCNDPFLGVYYHKNNKSWMEVEFRVYSSANNCTFEYVSQPFLMDLEGKQGNFKNLREFVFKNIDGYFKIYSKHTPINLVRDLPQGFSALEPLVDLPIGINITRFQTLLALHRSYLTPGDSSSGWTAGAAAYYVGYLQPRTFLLKYNENGTITDAVDCALDPLSETKCTLKSFTVEKGIYQHSNFRVQPTESIVRFPNITNLCPFGEVFNATRFASVYAWNRKRISNCVADYSVLYNSASFSTFKCYGVSPTKLNDLCFTNVYADSFVIRGDEVRQIAPGQTGKIADYNYKLPDDFTGCVIAWNSNNLDSKVGGNYNYLYRLFRKSNLKPFERDISTEIYQAGSTPCNGVEGFNCYFPLQSYGFQPTNGVGYQPYRVVVLSFELLHAPATVCGPSKSTNLVKNKCVNFNFNGLTGTGVLTESNKKFLPFQQFGRDIADTTDAVRDPQTLEILDITPCSFGGVSVITPGTNTSNQVAVLYQDVNCTEVPVAIHADQLTPTWRVYSTGSNVFQTFAGCLIGAEHVNNSYECDIPIGAGICASYQTQTNSPRRARSVASQSIIAYTMSLGAENSVAYSNNSIAIPTNFTISVTTEILPVSMTKTSVDCTMYICGDSTECSNLLLQYGSFCTQLNRALTGIAVEQDKNTQEVFAQVKQIYKPPPIKDFGGFNFSQILPDPSKPSKRSFIEDLLFNKVTLADAGFIKQYGDCLGDIAARDLICAQKFNGLTVLPPLLTDEMIAQYTSALLAGTITSGWTFGAGAALQIPFAMQMAYRFNGIGVTQNHLYENQKLIANQFNSAIGKIQDSLSSTASALGKLQDVVNQNAQALNTLVKQLSSNFGAISSVLNDILSRLDKVEAEVQIDRLITGRLQSLQTYVTQQLIRAAEIRASA\n",
      "AI move: 12845\n",
      "\n",
      "move_fitness: -4.149772\n",
      "\n",
      "episode_seq len: 9\n",
      "\n",
      "Mmove & playout dict len: 1590\n",
      "\n",
      "MFVFLVLLPLVSSQCVNLTTRTQLPPAYTNSFTRGVYYPDKVFRSSVLHSTQDLFLPFFSNVTWFHAIHVSGTNGTKRFDNPVLPFNDGVYFASTEKSNIIRGWIFGTTLDSKTQSLLIVNNATNVVIKVCEFQSCNDPFLGVYYHKNNKSWMEVEFRVYSSANNCTFEYVSQPFLMDLEGKQGNFKNLREFVFKNIDGYFKIYSKHTPINLVRDLPQGFSALEPLVDLPIGINITRFQTLLALHRSYLTPGDSSSGWTAGAAAYYVGYLQPRTFLLKYNENGTITDAVDCALDPLSETKCTLKSFTVEKGIYQHSNFRVQPTESIVRFPNITNLCPFGEVFNATRFASVYAWNRKRISNCVADYSVLYNSASFSTFKCYGVSPTKLNDLCFTNVYADSFVIRGDEVRQIAPGQTGKIADYNYKLPDDFTGCVIAWNSNNLDSKVGGNYNYLYRLFRKSNLKPFERDISTEIYQAGSTPCNGVEGFNCYFPLQSYGFQPTNGVGYQPYRVVVLSFELLHAPATVCGPSKSTNLVKMKCVNFNFNGLTGTGVLTESNKKFLPFQQFGRDIADTTDAVRDPQTLEILDITPCSFGGVSVITPGTNTSNQVAVLYQDVNCTEVPVAIHADQLTPTWRVYSTGSNVFQTFAGCLIGAEHVNNSYECDIPIGAGICASYQTQTNSPRRARSVASQSIIAYTMSLGAENSVAYSNNSIAIPTNFTISVTTEILPVSMTKTSVDCTMYICGDSTECSNLLLQYGSFCTQLNRALTGIAVEQDKNTQEVFAQVKQIYKPPPIKDFGGFNFSQILPDPSKPSKRSFIEDLLFNKVTLADAGFIKQYGDCLGDIAARDLICAQKFNGLTVLPPLLTDEMIAQYTSALLAGTITSGWTFGAGAALQIPFAMQMAYRFNGIGVTQNHLYENQKLIANQFNSAIGKIQDSLSSTASALGKLQDVVNQNAQALNTLVKQLSSNFGAISSVLNDILSRLDKVEAEVQIDRLITGRLQSLQTYVTQQLIRAAEIRASA\n",
      "AI move: 14392\n",
      "\n",
      "move_fitness: -4.149772\n",
      "\n",
      "episode_seq len: 10\n",
      "\n",
      "Mmove & playout dict len: 1789\n",
      "\n",
      "MFVFLVLLPLVSSQCVNLTTRTQLPPAYTNSFTRGVYYPDKVFRSSVLHSTQDLFLPFFSNVTWFHAIHVSGTNGTKRFDNPVLPFNDGVYFASTEKSNIIRGWIFGTTLDSKTQSLLIVNNATNVVIKVCEFQSCNDPFLGVYYHKNNKSWMEVEFRVYSSANNCTFEYVSQPFLMDLEGKQGNFKNLREFVFKNIDGYFKIYSKHTPINLVRDLPQGFSALEPLVDLPIGINITRFQTLLALHRSYLTPGDSSSGWTAGAAAYYVGYLQPRTFLLKYNENGTITDAVDCALDPLSETKCTLKSFTVEKGIYQHSNFRVQPTESIVRFPNITNLCPFGEVFNATRFASVYAWNRKRISNCVADYSVLYNSASFSTFKCYGVSPTKLNDLCFTNVYADSFVIRGDEVRQIAPGQTGKIADYNYKLPDDFTGCVIAWNSNNLDSKVGGNYNYLYRLFRKSNLKPFERDISTEIYQAGSTPCNGVEGFNCYFPLQSYGFQPTNGVGYQPYRVVVLSFELLHAPATVCGPSKSTNLVKMKCVNFNFNGLTGTGVLTESNKKFLPFQQFGRDIADTTDAVRDPQTLEILDITPCSFGGVSVITKGTNTSNQVAVLYQDVNCTEVPVAIHADQLTPTWRVYSTGSNVFQTFAGCLIGAEHVNNSYECDIPIGAGICASYQTQTNSPRRARSVASQSIIAYTMSLGAENSVAYSNNSIAIPTNFTISVTTEILPVSMTKTSVDCTMYICGDSTECSNLLLQYGSFCTQLNRALTGIAVEQDKNTQEVFAQVKQIYKPPPIKDFGGFNFSQILPDPSKPSKRSFIEDLLFNKVTLADAGFIKQYGDCLGDIAARDLICAQKFNGLTVLPPLLTDEMIAQYTSALLAGTITSGWTFGAGAALQIPFAMQMAYRFNGIGVTQNHLYENQKLIANQFNSAIGKIQDSLSSTASALGKLQDVVNQNAQALNTLVKQLSSNFGAISSVLNDILSRLDKVEAEVQIDRLITGRLQSLQTYVTQQLIRAAEIRASA\n",
      "AI move: 8789\n",
      "\n",
      "move_fitness: -4.149772\n",
      "\n",
      "episode_seq len: 11\n",
      "\n",
      "Mmove & playout dict len: 1987\n",
      "\n",
      "MFVFLVLLPLVSSQCVNLTTRTQLPPAYTNSFTRGVYYPDKVFRSSVLHSTQDLFLPFFSNVTWFHAIHVSGTNGTKRFDNPVLPFNDGVYFASTEKSNIIRGWIFGTTLDSKTQSLLIVNNATNVVIKVCEFQSCNDPFLGVYYHKNNKSWMEVEFRVYSSANNCTFEYVSQPFLMDLEGKQGNFKNLREFVFKNIDGYFKIYSKHTPINLVRDLPQGFSALEPLVDLPIGINITRFQTLLALHRSYLTPGDSSSGWTAGAAAYYVGYLQPRTFLLKYNENGTITDAVDCALDPLSETKCTLKSFTVEKGIYQHSNFRVQPTESIVRFPNITNLCPFGEVFNATRFASVYAWNRKRISNCVADYSMLYNSASFSTFKCYGVSPTKLNDLCFTNVYADSFVIRGDEVRQIAPGQTGKIADYNYKLPDDFTGCVIAWNSNNLDSKVGGNYNYLYRLFRKSNLKPFERDISTEIYQAGSTPCNGVEGFNCYFPLQSYGFQPTNGVGYQPYRVVVLSFELLHAPATVCGPSKSTNLVKMKCVNFNFNGLTGTGVLTESNKKFLPFQQFGRDIADTTDAVRDPQTLEILDITPCSFGGVSVITKGTNTSNQVAVLYQDVNCTEVPVAIHADQLTPTWRVYSTGSNVFQTFAGCLIGAEHVNNSYECDIPIGAGICASYQTQTNSPRRARSVASQSIIAYTMSLGAENSVAYSNNSIAIPTNFTISVTTEILPVSMTKTSVDCTMYICGDSTECSNLLLQYGSFCTQLNRALTGIAVEQDKNTQEVFAQVKQIYKPPPIKDFGGFNFSQILPDPSKPSKRSFIEDLLFNKVTLADAGFIKQYGDCLGDIAARDLICAQKFNGLTVLPPLLTDEMIAQYTSALLAGTITSGWTFGAGAALQIPFAMQMAYRFNGIGVTQNHLYENQKLIANQFNSAIGKIQDSLSSTASALGKLQDVVNQNAQALNTLVKQLSSNFGAISSVLNDILSRLDKVEAEVQIDRLITGRLQSLQTYVTQQLIRAAEIRASA\n",
      "\n",
      "quit\n"
     ]
    }
   ],
   "source": [
    "game.playGame()"
   ]
  },
  {
   "cell_type": "code",
   "execution_count": null,
   "id": "5b8b0367-34d9-4840-b3d0-f648043c12d7",
   "metadata": {},
   "outputs": [],
   "source": []
  }
 ],
 "metadata": {
  "kernelspec": {
   "display_name": "Python 3 (ipykernel)",
   "language": "python",
   "name": "python3"
  },
  "language_info": {
   "codemirror_mode": {
    "name": "ipython",
    "version": 3
   },
   "file_extension": ".py",
   "mimetype": "text/x-python",
   "name": "python",
   "nbconvert_exporter": "python",
   "pygments_lexer": "ipython3",
   "version": "3.8.10"
  }
 },
 "nbformat": 4,
 "nbformat_minor": 5
}
